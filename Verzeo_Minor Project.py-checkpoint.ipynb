{
 "cells": [
  {
   "cell_type": "code",
   "execution_count": 1,
   "id": "8617fc1b",
   "metadata": {},
   "outputs": [],
   "source": [
    "import pandas as pd\n",
    "import matplotlib.pyplot as plt\n",
    "import numpy as np"
   ]
  },
  {
   "cell_type": "code",
   "execution_count": 2,
   "id": "40dab2d8",
   "metadata": {},
   "outputs": [
    {
     "data": {
      "text/html": [
       "<div>\n",
       "<style scoped>\n",
       "    .dataframe tbody tr th:only-of-type {\n",
       "        vertical-align: middle;\n",
       "    }\n",
       "\n",
       "    .dataframe tbody tr th {\n",
       "        vertical-align: top;\n",
       "    }\n",
       "\n",
       "    .dataframe thead th {\n",
       "        text-align: right;\n",
       "    }\n",
       "</style>\n",
       "<table border=\"1\" class=\"dataframe\">\n",
       "  <thead>\n",
       "    <tr style=\"text-align: right;\">\n",
       "      <th></th>\n",
       "      <th>battery_power</th>\n",
       "      <th>blue</th>\n",
       "      <th>clock_speed</th>\n",
       "      <th>dual_sim</th>\n",
       "      <th>fc</th>\n",
       "      <th>four_g</th>\n",
       "      <th>int_memory</th>\n",
       "      <th>m_dep</th>\n",
       "      <th>mobile_wt</th>\n",
       "      <th>n_cores</th>\n",
       "      <th>...</th>\n",
       "      <th>px_height</th>\n",
       "      <th>px_width</th>\n",
       "      <th>ram</th>\n",
       "      <th>sc_h</th>\n",
       "      <th>sc_w</th>\n",
       "      <th>talk_time</th>\n",
       "      <th>three_g</th>\n",
       "      <th>touch_screen</th>\n",
       "      <th>wifi</th>\n",
       "      <th>price_range</th>\n",
       "    </tr>\n",
       "  </thead>\n",
       "  <tbody>\n",
       "    <tr>\n",
       "      <th>0</th>\n",
       "      <td>842</td>\n",
       "      <td>0</td>\n",
       "      <td>2.2</td>\n",
       "      <td>0</td>\n",
       "      <td>1</td>\n",
       "      <td>0</td>\n",
       "      <td>7</td>\n",
       "      <td>0.6</td>\n",
       "      <td>188</td>\n",
       "      <td>2</td>\n",
       "      <td>...</td>\n",
       "      <td>20</td>\n",
       "      <td>756</td>\n",
       "      <td>2549</td>\n",
       "      <td>9</td>\n",
       "      <td>7</td>\n",
       "      <td>19</td>\n",
       "      <td>0</td>\n",
       "      <td>0</td>\n",
       "      <td>1</td>\n",
       "      <td>1</td>\n",
       "    </tr>\n",
       "    <tr>\n",
       "      <th>1</th>\n",
       "      <td>1021</td>\n",
       "      <td>1</td>\n",
       "      <td>0.5</td>\n",
       "      <td>1</td>\n",
       "      <td>0</td>\n",
       "      <td>1</td>\n",
       "      <td>53</td>\n",
       "      <td>0.7</td>\n",
       "      <td>136</td>\n",
       "      <td>3</td>\n",
       "      <td>...</td>\n",
       "      <td>905</td>\n",
       "      <td>1988</td>\n",
       "      <td>2631</td>\n",
       "      <td>17</td>\n",
       "      <td>3</td>\n",
       "      <td>7</td>\n",
       "      <td>1</td>\n",
       "      <td>1</td>\n",
       "      <td>0</td>\n",
       "      <td>2</td>\n",
       "    </tr>\n",
       "    <tr>\n",
       "      <th>2</th>\n",
       "      <td>563</td>\n",
       "      <td>1</td>\n",
       "      <td>0.5</td>\n",
       "      <td>1</td>\n",
       "      <td>2</td>\n",
       "      <td>1</td>\n",
       "      <td>41</td>\n",
       "      <td>0.9</td>\n",
       "      <td>145</td>\n",
       "      <td>5</td>\n",
       "      <td>...</td>\n",
       "      <td>1263</td>\n",
       "      <td>1716</td>\n",
       "      <td>2603</td>\n",
       "      <td>11</td>\n",
       "      <td>2</td>\n",
       "      <td>9</td>\n",
       "      <td>1</td>\n",
       "      <td>1</td>\n",
       "      <td>0</td>\n",
       "      <td>2</td>\n",
       "    </tr>\n",
       "    <tr>\n",
       "      <th>3</th>\n",
       "      <td>615</td>\n",
       "      <td>1</td>\n",
       "      <td>2.5</td>\n",
       "      <td>0</td>\n",
       "      <td>0</td>\n",
       "      <td>0</td>\n",
       "      <td>10</td>\n",
       "      <td>0.8</td>\n",
       "      <td>131</td>\n",
       "      <td>6</td>\n",
       "      <td>...</td>\n",
       "      <td>1216</td>\n",
       "      <td>1786</td>\n",
       "      <td>2769</td>\n",
       "      <td>16</td>\n",
       "      <td>8</td>\n",
       "      <td>11</td>\n",
       "      <td>1</td>\n",
       "      <td>0</td>\n",
       "      <td>0</td>\n",
       "      <td>2</td>\n",
       "    </tr>\n",
       "    <tr>\n",
       "      <th>4</th>\n",
       "      <td>1821</td>\n",
       "      <td>1</td>\n",
       "      <td>1.2</td>\n",
       "      <td>0</td>\n",
       "      <td>13</td>\n",
       "      <td>1</td>\n",
       "      <td>44</td>\n",
       "      <td>0.6</td>\n",
       "      <td>141</td>\n",
       "      <td>2</td>\n",
       "      <td>...</td>\n",
       "      <td>1208</td>\n",
       "      <td>1212</td>\n",
       "      <td>1411</td>\n",
       "      <td>8</td>\n",
       "      <td>2</td>\n",
       "      <td>15</td>\n",
       "      <td>1</td>\n",
       "      <td>1</td>\n",
       "      <td>0</td>\n",
       "      <td>1</td>\n",
       "    </tr>\n",
       "    <tr>\n",
       "      <th>...</th>\n",
       "      <td>...</td>\n",
       "      <td>...</td>\n",
       "      <td>...</td>\n",
       "      <td>...</td>\n",
       "      <td>...</td>\n",
       "      <td>...</td>\n",
       "      <td>...</td>\n",
       "      <td>...</td>\n",
       "      <td>...</td>\n",
       "      <td>...</td>\n",
       "      <td>...</td>\n",
       "      <td>...</td>\n",
       "      <td>...</td>\n",
       "      <td>...</td>\n",
       "      <td>...</td>\n",
       "      <td>...</td>\n",
       "      <td>...</td>\n",
       "      <td>...</td>\n",
       "      <td>...</td>\n",
       "      <td>...</td>\n",
       "      <td>...</td>\n",
       "    </tr>\n",
       "    <tr>\n",
       "      <th>1995</th>\n",
       "      <td>794</td>\n",
       "      <td>1</td>\n",
       "      <td>0.5</td>\n",
       "      <td>1</td>\n",
       "      <td>0</td>\n",
       "      <td>1</td>\n",
       "      <td>2</td>\n",
       "      <td>0.8</td>\n",
       "      <td>106</td>\n",
       "      <td>6</td>\n",
       "      <td>...</td>\n",
       "      <td>1222</td>\n",
       "      <td>1890</td>\n",
       "      <td>668</td>\n",
       "      <td>13</td>\n",
       "      <td>4</td>\n",
       "      <td>19</td>\n",
       "      <td>1</td>\n",
       "      <td>1</td>\n",
       "      <td>0</td>\n",
       "      <td>0</td>\n",
       "    </tr>\n",
       "    <tr>\n",
       "      <th>1996</th>\n",
       "      <td>1965</td>\n",
       "      <td>1</td>\n",
       "      <td>2.6</td>\n",
       "      <td>1</td>\n",
       "      <td>0</td>\n",
       "      <td>0</td>\n",
       "      <td>39</td>\n",
       "      <td>0.2</td>\n",
       "      <td>187</td>\n",
       "      <td>4</td>\n",
       "      <td>...</td>\n",
       "      <td>915</td>\n",
       "      <td>1965</td>\n",
       "      <td>2032</td>\n",
       "      <td>11</td>\n",
       "      <td>10</td>\n",
       "      <td>16</td>\n",
       "      <td>1</td>\n",
       "      <td>1</td>\n",
       "      <td>1</td>\n",
       "      <td>2</td>\n",
       "    </tr>\n",
       "    <tr>\n",
       "      <th>1997</th>\n",
       "      <td>1911</td>\n",
       "      <td>0</td>\n",
       "      <td>0.9</td>\n",
       "      <td>1</td>\n",
       "      <td>1</td>\n",
       "      <td>1</td>\n",
       "      <td>36</td>\n",
       "      <td>0.7</td>\n",
       "      <td>108</td>\n",
       "      <td>8</td>\n",
       "      <td>...</td>\n",
       "      <td>868</td>\n",
       "      <td>1632</td>\n",
       "      <td>3057</td>\n",
       "      <td>9</td>\n",
       "      <td>1</td>\n",
       "      <td>5</td>\n",
       "      <td>1</td>\n",
       "      <td>1</td>\n",
       "      <td>0</td>\n",
       "      <td>3</td>\n",
       "    </tr>\n",
       "    <tr>\n",
       "      <th>1998</th>\n",
       "      <td>1512</td>\n",
       "      <td>0</td>\n",
       "      <td>0.9</td>\n",
       "      <td>0</td>\n",
       "      <td>4</td>\n",
       "      <td>1</td>\n",
       "      <td>46</td>\n",
       "      <td>0.1</td>\n",
       "      <td>145</td>\n",
       "      <td>5</td>\n",
       "      <td>...</td>\n",
       "      <td>336</td>\n",
       "      <td>670</td>\n",
       "      <td>869</td>\n",
       "      <td>18</td>\n",
       "      <td>10</td>\n",
       "      <td>19</td>\n",
       "      <td>1</td>\n",
       "      <td>1</td>\n",
       "      <td>1</td>\n",
       "      <td>0</td>\n",
       "    </tr>\n",
       "    <tr>\n",
       "      <th>1999</th>\n",
       "      <td>510</td>\n",
       "      <td>1</td>\n",
       "      <td>2.0</td>\n",
       "      <td>1</td>\n",
       "      <td>5</td>\n",
       "      <td>1</td>\n",
       "      <td>45</td>\n",
       "      <td>0.9</td>\n",
       "      <td>168</td>\n",
       "      <td>6</td>\n",
       "      <td>...</td>\n",
       "      <td>483</td>\n",
       "      <td>754</td>\n",
       "      <td>3919</td>\n",
       "      <td>19</td>\n",
       "      <td>4</td>\n",
       "      <td>2</td>\n",
       "      <td>1</td>\n",
       "      <td>1</td>\n",
       "      <td>1</td>\n",
       "      <td>3</td>\n",
       "    </tr>\n",
       "  </tbody>\n",
       "</table>\n",
       "<p>2000 rows × 21 columns</p>\n",
       "</div>"
      ],
      "text/plain": [
       "      battery_power  blue  clock_speed  dual_sim  fc  four_g  int_memory  \\\n",
       "0               842     0          2.2         0   1       0           7   \n",
       "1              1021     1          0.5         1   0       1          53   \n",
       "2               563     1          0.5         1   2       1          41   \n",
       "3               615     1          2.5         0   0       0          10   \n",
       "4              1821     1          1.2         0  13       1          44   \n",
       "...             ...   ...          ...       ...  ..     ...         ...   \n",
       "1995            794     1          0.5         1   0       1           2   \n",
       "1996           1965     1          2.6         1   0       0          39   \n",
       "1997           1911     0          0.9         1   1       1          36   \n",
       "1998           1512     0          0.9         0   4       1          46   \n",
       "1999            510     1          2.0         1   5       1          45   \n",
       "\n",
       "      m_dep  mobile_wt  n_cores  ...  px_height  px_width   ram  sc_h  sc_w  \\\n",
       "0       0.6        188        2  ...         20       756  2549     9     7   \n",
       "1       0.7        136        3  ...        905      1988  2631    17     3   \n",
       "2       0.9        145        5  ...       1263      1716  2603    11     2   \n",
       "3       0.8        131        6  ...       1216      1786  2769    16     8   \n",
       "4       0.6        141        2  ...       1208      1212  1411     8     2   \n",
       "...     ...        ...      ...  ...        ...       ...   ...   ...   ...   \n",
       "1995    0.8        106        6  ...       1222      1890   668    13     4   \n",
       "1996    0.2        187        4  ...        915      1965  2032    11    10   \n",
       "1997    0.7        108        8  ...        868      1632  3057     9     1   \n",
       "1998    0.1        145        5  ...        336       670   869    18    10   \n",
       "1999    0.9        168        6  ...        483       754  3919    19     4   \n",
       "\n",
       "      talk_time  three_g  touch_screen  wifi  price_range  \n",
       "0            19        0             0     1            1  \n",
       "1             7        1             1     0            2  \n",
       "2             9        1             1     0            2  \n",
       "3            11        1             0     0            2  \n",
       "4            15        1             1     0            1  \n",
       "...         ...      ...           ...   ...          ...  \n",
       "1995         19        1             1     0            0  \n",
       "1996         16        1             1     1            2  \n",
       "1997          5        1             1     0            3  \n",
       "1998         19        1             1     1            0  \n",
       "1999          2        1             1     1            3  \n",
       "\n",
       "[2000 rows x 21 columns]"
      ]
     },
     "execution_count": 2,
     "metadata": {},
     "output_type": "execute_result"
    }
   ],
   "source": [
    "df=pd.read_csv(\"mobile_price_range_data.csv\")\n",
    "df"
   ]
  },
  {
   "cell_type": "code",
   "execution_count": 3,
   "id": "a3c5601c",
   "metadata": {},
   "outputs": [
    {
     "data": {
      "text/plain": [
       "battery_power      int64\n",
       "blue               int64\n",
       "clock_speed      float64\n",
       "dual_sim           int64\n",
       "fc                 int64\n",
       "four_g             int64\n",
       "int_memory         int64\n",
       "m_dep            float64\n",
       "mobile_wt          int64\n",
       "n_cores            int64\n",
       "pc                 int64\n",
       "px_height          int64\n",
       "px_width           int64\n",
       "ram                int64\n",
       "sc_h               int64\n",
       "sc_w               int64\n",
       "talk_time          int64\n",
       "three_g            int64\n",
       "touch_screen       int64\n",
       "wifi               int64\n",
       "price_range        int64\n",
       "dtype: object"
      ]
     },
     "execution_count": 3,
     "metadata": {},
     "output_type": "execute_result"
    }
   ],
   "source": [
    "df.dtypes"
   ]
  },
  {
   "cell_type": "code",
   "execution_count": 4,
   "id": "275921a4",
   "metadata": {},
   "outputs": [
    {
     "data": {
      "text/plain": [
       "Index(['battery_power', 'blue', 'clock_speed', 'dual_sim', 'fc', 'four_g',\n",
       "       'int_memory', 'm_dep', 'mobile_wt', 'n_cores', 'pc', 'px_height',\n",
       "       'px_width', 'ram', 'sc_h', 'sc_w', 'talk_time', 'three_g',\n",
       "       'touch_screen', 'wifi', 'price_range'],\n",
       "      dtype='object')"
      ]
     },
     "execution_count": 4,
     "metadata": {},
     "output_type": "execute_result"
    }
   ],
   "source": [
    "df.columns"
   ]
  },
  {
   "cell_type": "code",
   "execution_count": 5,
   "id": "f919acd0",
   "metadata": {},
   "outputs": [
    {
     "data": {
      "text/plain": [
       "battery_power    0\n",
       "blue             0\n",
       "clock_speed      0\n",
       "dual_sim         0\n",
       "fc               0\n",
       "four_g           0\n",
       "int_memory       0\n",
       "m_dep            0\n",
       "mobile_wt        0\n",
       "n_cores          0\n",
       "pc               0\n",
       "px_height        0\n",
       "px_width         0\n",
       "ram              0\n",
       "sc_h             0\n",
       "sc_w             0\n",
       "talk_time        0\n",
       "three_g          0\n",
       "touch_screen     0\n",
       "wifi             0\n",
       "price_range      0\n",
       "dtype: int64"
      ]
     },
     "execution_count": 5,
     "metadata": {},
     "output_type": "execute_result"
    }
   ],
   "source": [
    "df.isnull().sum()"
   ]
  },
  {
   "cell_type": "code",
   "execution_count": 6,
   "id": "5b95efa0",
   "metadata": {},
   "outputs": [
    {
     "data": {
      "text/plain": [
       "array([2549, 2631, 2603, ..., 3057,  869, 3919], dtype=int64)"
      ]
     },
     "execution_count": 6,
     "metadata": {},
     "output_type": "execute_result"
    }
   ],
   "source": [
    "df[\"ram\"].values"
   ]
  },
  {
   "cell_type": "code",
   "execution_count": 7,
   "id": "34e13263",
   "metadata": {},
   "outputs": [
    {
     "data": {
      "text/plain": [
       "array([1, 0, 2, ..., 1, 4, 5], dtype=int64)"
      ]
     },
     "execution_count": 7,
     "metadata": {},
     "output_type": "execute_result"
    }
   ],
   "source": [
    "df[\"fc\"].values"
   ]
  },
  {
   "cell_type": "code",
   "execution_count": 8,
   "id": "e4b40d8a",
   "metadata": {},
   "outputs": [
    {
     "data": {
      "text/plain": [
       "array([2, 3, 5, ..., 8, 5, 6], dtype=int64)"
      ]
     },
     "execution_count": 8,
     "metadata": {},
     "output_type": "execute_result"
    }
   ],
   "source": [
    "df[\"n_cores\"].values"
   ]
  },
  {
   "cell_type": "code",
   "execution_count": 9,
   "id": "fcbdc911",
   "metadata": {},
   "outputs": [
    {
     "data": {
      "text/plain": [
       "array([0, 1, 1, ..., 1, 1, 1], dtype=int64)"
      ]
     },
     "execution_count": 9,
     "metadata": {},
     "output_type": "execute_result"
    }
   ],
   "source": [
    "df[\"touch_screen\"].values"
   ]
  },
  {
   "cell_type": "markdown",
   "id": "ab0ad47e",
   "metadata": {},
   "source": [
    "# TEST_TRAIN_SPLIT"
   ]
  },
  {
   "cell_type": "code",
   "execution_count": 10,
   "id": "51876031",
   "metadata": {},
   "outputs": [],
   "source": [
    "from sklearn.model_selection import train_test_split"
   ]
  },
  {
   "cell_type": "code",
   "execution_count": 11,
   "id": "f6e72539",
   "metadata": {},
   "outputs": [
    {
     "name": "stdout",
     "output_type": "stream",
     "text": [
      "<class 'pandas.core.frame.DataFrame'>\n",
      "<class 'pandas.core.series.Series'>\n"
     ]
    }
   ],
   "source": [
    "x=df[[\"ram\",\"fc\",\"n_cores\",\"touch_screen\"]]\n",
    "y=df[\"price_range\"]\n",
    "print(type(x))\n",
    "print(type(y))"
   ]
  },
  {
   "cell_type": "code",
   "execution_count": 12,
   "id": "b576fb82",
   "metadata": {
    "scrolled": true
   },
   "outputs": [
    {
     "name": "stderr",
     "output_type": "stream",
     "text": [
      "C:\\Users\\saich\\AppData\\Local\\Programs\\Python\\Python310\\lib\\site-packages\\numpy\\core\\fromnumeric.py:84: FutureWarning: In a future version, DataFrame.min(axis=None) will return a scalar min over the entire DataFrame. To retain the old behavior, use 'frame.min(axis=0)' or just 'frame.min()'\n",
      "  return reduction(axis=axis, out=out, **passkwargs)\n",
      "C:\\Users\\saich\\AppData\\Local\\Programs\\Python\\Python310\\lib\\site-packages\\numpy\\core\\fromnumeric.py:84: FutureWarning: In a future version, DataFrame.max(axis=None) will return a scalar max over the entire DataFrame. To retain the old behavior, use 'frame.max(axis=0)' or just 'frame.max()'\n",
      "  return reduction(axis=axis, out=out, **passkwargs)\n"
     ]
    },
    {
     "data": {
      "text/plain": [
       "array([[2.54893159e+03, 1.00000000e+00, 1.85714286e+00, 0.00000000e+00],\n",
       "       [2.63093159e+03, 0.00000000e+00, 2.85714286e+00, 1.00000000e+00],\n",
       "       [2.60293159e+03, 2.00000000e+00, 4.85714286e+00, 1.00000000e+00],\n",
       "       ...,\n",
       "       [3.05693159e+03, 1.00000000e+00, 7.85714286e+00, 1.00000000e+00],\n",
       "       [8.68931587e+02, 4.00000000e+00, 4.85714286e+00, 1.00000000e+00],\n",
       "       [3.91893159e+03, 5.00000000e+00, 5.85714286e+00, 1.00000000e+00]])"
      ]
     },
     "execution_count": 12,
     "metadata": {},
     "output_type": "execute_result"
    }
   ],
   "source": [
    "x=(x-np.min(x)/(np.max(x)-np.min(x))).values\n",
    "x"
   ]
  },
  {
   "cell_type": "code",
   "execution_count": 13,
   "id": "8c1f6978",
   "metadata": {},
   "outputs": [
    {
     "name": "stdout",
     "output_type": "stream",
     "text": [
      "(1500, 4)\n",
      "(1500,)\n",
      "(500, 4)\n",
      "(500,)\n"
     ]
    }
   ],
   "source": [
    "x_train,x_test,y_train,y_test=train_test_split(x,y,test_size=0.25,random_state=48)\n",
    "print(x_train.shape)\n",
    "print(y_train.shape)\n",
    "print(x_test.shape)\n",
    "print(y_test.shape)"
   ]
  },
  {
   "cell_type": "code",
   "execution_count": 14,
   "id": "1c161939",
   "metadata": {},
   "outputs": [],
   "source": [
    "df=df[np.isfinite(df).all(1)]"
   ]
  },
  {
   "cell_type": "markdown",
   "id": "17f1d05f",
   "metadata": {},
   "source": [
    "# LOGISTIC REGRESSION"
   ]
  },
  {
   "cell_type": "code",
   "execution_count": 15,
   "id": "fc3a93c3",
   "metadata": {},
   "outputs": [],
   "source": [
    "from sklearn.linear_model import LogisticRegression"
   ]
  },
  {
   "cell_type": "code",
   "execution_count": 16,
   "id": "999135c4",
   "metadata": {},
   "outputs": [
    {
     "name": "stderr",
     "output_type": "stream",
     "text": [
      "C:\\Users\\saich\\AppData\\Local\\Programs\\Python\\Python310\\lib\\site-packages\\sklearn\\linear_model\\_logistic.py:458: ConvergenceWarning: lbfgs failed to converge (status=1):\n",
      "STOP: TOTAL NO. of ITERATIONS REACHED LIMIT.\n",
      "\n",
      "Increase the number of iterations (max_iter) or scale the data as shown in:\n",
      "    https://scikit-learn.org/stable/modules/preprocessing.html\n",
      "Please also refer to the documentation for alternative solver options:\n",
      "    https://scikit-learn.org/stable/modules/linear_model.html#logistic-regression\n",
      "  n_iter_i = _check_optimize_result(\n"
     ]
    },
    {
     "data": {
      "text/html": [
       "<style>#sk-container-id-1 {color: black;background-color: white;}#sk-container-id-1 pre{padding: 0;}#sk-container-id-1 div.sk-toggleable {background-color: white;}#sk-container-id-1 label.sk-toggleable__label {cursor: pointer;display: block;width: 100%;margin-bottom: 0;padding: 0.3em;box-sizing: border-box;text-align: center;}#sk-container-id-1 label.sk-toggleable__label-arrow:before {content: \"▸\";float: left;margin-right: 0.25em;color: #696969;}#sk-container-id-1 label.sk-toggleable__label-arrow:hover:before {color: black;}#sk-container-id-1 div.sk-estimator:hover label.sk-toggleable__label-arrow:before {color: black;}#sk-container-id-1 div.sk-toggleable__content {max-height: 0;max-width: 0;overflow: hidden;text-align: left;background-color: #f0f8ff;}#sk-container-id-1 div.sk-toggleable__content pre {margin: 0.2em;color: black;border-radius: 0.25em;background-color: #f0f8ff;}#sk-container-id-1 input.sk-toggleable__control:checked~div.sk-toggleable__content {max-height: 200px;max-width: 100%;overflow: auto;}#sk-container-id-1 input.sk-toggleable__control:checked~label.sk-toggleable__label-arrow:before {content: \"▾\";}#sk-container-id-1 div.sk-estimator input.sk-toggleable__control:checked~label.sk-toggleable__label {background-color: #d4ebff;}#sk-container-id-1 div.sk-label input.sk-toggleable__control:checked~label.sk-toggleable__label {background-color: #d4ebff;}#sk-container-id-1 input.sk-hidden--visually {border: 0;clip: rect(1px 1px 1px 1px);clip: rect(1px, 1px, 1px, 1px);height: 1px;margin: -1px;overflow: hidden;padding: 0;position: absolute;width: 1px;}#sk-container-id-1 div.sk-estimator {font-family: monospace;background-color: #f0f8ff;border: 1px dotted black;border-radius: 0.25em;box-sizing: border-box;margin-bottom: 0.5em;}#sk-container-id-1 div.sk-estimator:hover {background-color: #d4ebff;}#sk-container-id-1 div.sk-parallel-item::after {content: \"\";width: 100%;border-bottom: 1px solid gray;flex-grow: 1;}#sk-container-id-1 div.sk-label:hover label.sk-toggleable__label {background-color: #d4ebff;}#sk-container-id-1 div.sk-serial::before {content: \"\";position: absolute;border-left: 1px solid gray;box-sizing: border-box;top: 0;bottom: 0;left: 50%;z-index: 0;}#sk-container-id-1 div.sk-serial {display: flex;flex-direction: column;align-items: center;background-color: white;padding-right: 0.2em;padding-left: 0.2em;position: relative;}#sk-container-id-1 div.sk-item {position: relative;z-index: 1;}#sk-container-id-1 div.sk-parallel {display: flex;align-items: stretch;justify-content: center;background-color: white;position: relative;}#sk-container-id-1 div.sk-item::before, #sk-container-id-1 div.sk-parallel-item::before {content: \"\";position: absolute;border-left: 1px solid gray;box-sizing: border-box;top: 0;bottom: 0;left: 50%;z-index: -1;}#sk-container-id-1 div.sk-parallel-item {display: flex;flex-direction: column;z-index: 1;position: relative;background-color: white;}#sk-container-id-1 div.sk-parallel-item:first-child::after {align-self: flex-end;width: 50%;}#sk-container-id-1 div.sk-parallel-item:last-child::after {align-self: flex-start;width: 50%;}#sk-container-id-1 div.sk-parallel-item:only-child::after {width: 0;}#sk-container-id-1 div.sk-dashed-wrapped {border: 1px dashed gray;margin: 0 0.4em 0.5em 0.4em;box-sizing: border-box;padding-bottom: 0.4em;background-color: white;}#sk-container-id-1 div.sk-label label {font-family: monospace;font-weight: bold;display: inline-block;line-height: 1.2em;}#sk-container-id-1 div.sk-label-container {text-align: center;}#sk-container-id-1 div.sk-container {/* jupyter's `normalize.less` sets `[hidden] { display: none; }` but bootstrap.min.css set `[hidden] { display: none !important; }` so we also need the `!important` here to be able to override the default hidden behavior on the sphinx rendered scikit-learn.org. See: https://github.com/scikit-learn/scikit-learn/issues/21755 */display: inline-block !important;position: relative;}#sk-container-id-1 div.sk-text-repr-fallback {display: none;}</style><div id=\"sk-container-id-1\" class=\"sk-top-container\"><div class=\"sk-text-repr-fallback\"><pre>LogisticRegression()</pre><b>In a Jupyter environment, please rerun this cell to show the HTML representation or trust the notebook. <br />On GitHub, the HTML representation is unable to render, please try loading this page with nbviewer.org.</b></div><div class=\"sk-container\" hidden><div class=\"sk-item\"><div class=\"sk-estimator sk-toggleable\"><input class=\"sk-toggleable__control sk-hidden--visually\" id=\"sk-estimator-id-1\" type=\"checkbox\" checked><label for=\"sk-estimator-id-1\" class=\"sk-toggleable__label sk-toggleable__label-arrow\">LogisticRegression</label><div class=\"sk-toggleable__content\"><pre>LogisticRegression()</pre></div></div></div></div></div>"
      ],
      "text/plain": [
       "LogisticRegression()"
      ]
     },
     "execution_count": 16,
     "metadata": {},
     "output_type": "execute_result"
    }
   ],
   "source": [
    "lr=LogisticRegression()\n",
    "lr.fit(x_train,y_train)"
   ]
  },
  {
   "cell_type": "code",
   "execution_count": 17,
   "id": "1af73e26",
   "metadata": {},
   "outputs": [
    {
     "data": {
      "text/plain": [
       "array([1, 3, 2, 0, 1, 3, 0, 3, 0, 0, 1, 2, 3, 3, 0, 0, 1, 3, 3, 3, 3, 3,\n",
       "       2, 0, 1, 0, 3, 2, 0, 2, 3, 0, 3, 3, 3, 0, 0, 1, 3, 3, 0, 3, 0, 3,\n",
       "       1, 3, 3, 2, 1, 2, 0, 0, 0, 3, 2, 2, 0, 0, 3, 1, 1, 0, 3, 3, 2, 3,\n",
       "       3, 3, 1, 0, 1, 1, 3, 1, 0, 0, 0, 1, 0, 1, 2, 1, 0, 2, 3, 0, 3, 1,\n",
       "       2, 0, 0, 3, 3, 3, 3, 1, 2, 2, 1, 1, 1, 2, 3, 3, 3, 1, 0, 0, 0, 1,\n",
       "       3, 3, 3, 3, 2, 1, 0, 1, 2, 2, 3, 3, 0, 0, 0, 3, 2, 0, 2, 3, 3, 1,\n",
       "       3, 2, 0, 3, 0, 3, 3, 3, 1, 3, 1, 1, 3, 3, 1, 0, 1, 3, 0, 2, 0, 2,\n",
       "       3, 1, 2, 1, 3, 0, 0, 3, 3, 3, 3, 1, 1, 3, 0, 3, 0, 3, 1, 3, 2, 0,\n",
       "       0, 2, 1, 2, 3, 3, 2, 3, 2, 2, 3, 3, 0, 1, 0, 2, 3, 3, 0, 0, 3, 1,\n",
       "       1, 0, 3, 1, 3, 3, 3, 0, 3, 0, 3, 0, 1, 3, 3, 3, 2, 3, 1, 3, 1, 3,\n",
       "       3, 3, 3, 3, 1, 1, 3, 1, 2, 2, 0, 3, 3, 3, 3, 1, 3, 2, 1, 3, 0, 3,\n",
       "       1, 1, 2, 3, 1, 3, 1, 2, 3, 3, 3, 1, 0, 3, 0, 3, 2, 0, 1, 0, 3, 0,\n",
       "       3, 2, 3, 3, 3, 1, 2, 3, 0, 1, 3, 3, 0, 0, 3, 0, 1, 3, 2, 1, 3, 0,\n",
       "       0, 3, 0, 1, 3, 1, 3, 2, 3, 3, 2, 2, 1, 3, 0, 1, 1, 1, 0, 3, 2, 1,\n",
       "       0, 1, 3, 0, 1, 0, 0, 0, 0, 1, 3, 0, 3, 3, 3, 3, 1, 0, 3, 3, 3, 3,\n",
       "       3, 2, 0, 1, 0, 1, 0, 0, 1, 0, 0, 2, 3, 3, 1, 0, 0, 0, 3, 3, 3, 0,\n",
       "       3, 3, 1, 3, 0, 2, 3, 2, 0, 3, 1, 3, 3, 1, 3, 1, 3, 3, 2, 0, 3, 2,\n",
       "       0, 0, 1, 2, 1, 0, 2, 2, 0, 3, 1, 3, 1, 0, 1, 3, 1, 2, 3, 3, 3, 2,\n",
       "       0, 0, 1, 0, 3, 0, 3, 1, 3, 3, 2, 3, 1, 3, 2, 2, 1, 1, 1, 1, 0, 0,\n",
       "       3, 0, 3, 0, 2, 3, 3, 3, 3, 1, 1, 0, 1, 0, 0, 0, 0, 1, 3, 2, 0, 3,\n",
       "       3, 3, 3, 1, 3, 2, 3, 3, 0, 1, 0, 3, 2, 3, 0, 2, 2, 2, 0, 3, 0, 2,\n",
       "       2, 0, 0, 2, 1, 3, 3, 3, 3, 2, 2, 0, 0, 2, 2, 3, 0, 2, 0, 3, 1, 1,\n",
       "       2, 2, 3, 0, 3, 3, 2, 3, 3, 1, 2, 0, 3, 2, 1, 3], dtype=int64)"
      ]
     },
     "execution_count": 17,
     "metadata": {},
     "output_type": "execute_result"
    }
   ],
   "source": [
    "y_pred=lr.predict(x_test)\n",
    "y_pred"
   ]
  },
  {
   "cell_type": "code",
   "execution_count": 18,
   "id": "4fb47324",
   "metadata": {},
   "outputs": [
    {
     "name": "stdout",
     "output_type": "stream",
     "text": [
      "52.2\n",
      "50.6\n"
     ]
    }
   ],
   "source": [
    "acc_log_train=round(lr.score(x_train,y_train)*100,2)\n",
    "acc_log_test=round(lr.score(x_test,y_test)*100,2)\n",
    "print(acc_log_train)\n",
    "print(acc_log_test)"
   ]
  },
  {
   "cell_type": "code",
   "execution_count": 19,
   "id": "905874f1",
   "metadata": {},
   "outputs": [
    {
     "data": {
      "text/plain": [
       "array([[96, 25,  4,  0],\n",
       "       [16, 48, 37,  2],\n",
       "       [ 8, 23, 22, 27],\n",
       "       [ 4, 37, 64, 87]], dtype=int64)"
      ]
     },
     "execution_count": 19,
     "metadata": {},
     "output_type": "execute_result"
    }
   ],
   "source": [
    "from sklearn.metrics import classification_report,confusion_matrix\n",
    "cm=confusion_matrix(y_pred,y_test)\n",
    "cm"
   ]
  },
  {
   "cell_type": "code",
   "execution_count": 20,
   "id": "a1c098ad",
   "metadata": {},
   "outputs": [
    {
     "data": {
      "text/plain": [
       "'              precision    recall  f1-score   support\\n\\n           0       0.77      0.77      0.77       125\\n           1       0.36      0.47      0.41       103\\n           2       0.17      0.28      0.21        80\\n           3       0.75      0.45      0.56       192\\n\\n    accuracy                           0.51       500\\n   macro avg       0.51      0.49      0.49       500\\nweighted avg       0.58      0.51      0.53       500\\n'"
      ]
     },
     "execution_count": 20,
     "metadata": {},
     "output_type": "execute_result"
    }
   ],
   "source": [
    "classification_report(y_pred,y_test)"
   ]
  },
  {
   "cell_type": "markdown",
   "id": "66e90d20",
   "metadata": {},
   "source": [
    "# KNN CLASSIFIER"
   ]
  },
  {
   "cell_type": "code",
   "execution_count": 21,
   "id": "5f148b4a",
   "metadata": {},
   "outputs": [],
   "source": [
    "from sklearn.neighbors import KNeighborsClassifier"
   ]
  },
  {
   "cell_type": "code",
   "execution_count": 22,
   "id": "018b795c",
   "metadata": {},
   "outputs": [
    {
     "data": {
      "text/html": [
       "<style>#sk-container-id-2 {color: black;background-color: white;}#sk-container-id-2 pre{padding: 0;}#sk-container-id-2 div.sk-toggleable {background-color: white;}#sk-container-id-2 label.sk-toggleable__label {cursor: pointer;display: block;width: 100%;margin-bottom: 0;padding: 0.3em;box-sizing: border-box;text-align: center;}#sk-container-id-2 label.sk-toggleable__label-arrow:before {content: \"▸\";float: left;margin-right: 0.25em;color: #696969;}#sk-container-id-2 label.sk-toggleable__label-arrow:hover:before {color: black;}#sk-container-id-2 div.sk-estimator:hover label.sk-toggleable__label-arrow:before {color: black;}#sk-container-id-2 div.sk-toggleable__content {max-height: 0;max-width: 0;overflow: hidden;text-align: left;background-color: #f0f8ff;}#sk-container-id-2 div.sk-toggleable__content pre {margin: 0.2em;color: black;border-radius: 0.25em;background-color: #f0f8ff;}#sk-container-id-2 input.sk-toggleable__control:checked~div.sk-toggleable__content {max-height: 200px;max-width: 100%;overflow: auto;}#sk-container-id-2 input.sk-toggleable__control:checked~label.sk-toggleable__label-arrow:before {content: \"▾\";}#sk-container-id-2 div.sk-estimator input.sk-toggleable__control:checked~label.sk-toggleable__label {background-color: #d4ebff;}#sk-container-id-2 div.sk-label input.sk-toggleable__control:checked~label.sk-toggleable__label {background-color: #d4ebff;}#sk-container-id-2 input.sk-hidden--visually {border: 0;clip: rect(1px 1px 1px 1px);clip: rect(1px, 1px, 1px, 1px);height: 1px;margin: -1px;overflow: hidden;padding: 0;position: absolute;width: 1px;}#sk-container-id-2 div.sk-estimator {font-family: monospace;background-color: #f0f8ff;border: 1px dotted black;border-radius: 0.25em;box-sizing: border-box;margin-bottom: 0.5em;}#sk-container-id-2 div.sk-estimator:hover {background-color: #d4ebff;}#sk-container-id-2 div.sk-parallel-item::after {content: \"\";width: 100%;border-bottom: 1px solid gray;flex-grow: 1;}#sk-container-id-2 div.sk-label:hover label.sk-toggleable__label {background-color: #d4ebff;}#sk-container-id-2 div.sk-serial::before {content: \"\";position: absolute;border-left: 1px solid gray;box-sizing: border-box;top: 0;bottom: 0;left: 50%;z-index: 0;}#sk-container-id-2 div.sk-serial {display: flex;flex-direction: column;align-items: center;background-color: white;padding-right: 0.2em;padding-left: 0.2em;position: relative;}#sk-container-id-2 div.sk-item {position: relative;z-index: 1;}#sk-container-id-2 div.sk-parallel {display: flex;align-items: stretch;justify-content: center;background-color: white;position: relative;}#sk-container-id-2 div.sk-item::before, #sk-container-id-2 div.sk-parallel-item::before {content: \"\";position: absolute;border-left: 1px solid gray;box-sizing: border-box;top: 0;bottom: 0;left: 50%;z-index: -1;}#sk-container-id-2 div.sk-parallel-item {display: flex;flex-direction: column;z-index: 1;position: relative;background-color: white;}#sk-container-id-2 div.sk-parallel-item:first-child::after {align-self: flex-end;width: 50%;}#sk-container-id-2 div.sk-parallel-item:last-child::after {align-self: flex-start;width: 50%;}#sk-container-id-2 div.sk-parallel-item:only-child::after {width: 0;}#sk-container-id-2 div.sk-dashed-wrapped {border: 1px dashed gray;margin: 0 0.4em 0.5em 0.4em;box-sizing: border-box;padding-bottom: 0.4em;background-color: white;}#sk-container-id-2 div.sk-label label {font-family: monospace;font-weight: bold;display: inline-block;line-height: 1.2em;}#sk-container-id-2 div.sk-label-container {text-align: center;}#sk-container-id-2 div.sk-container {/* jupyter's `normalize.less` sets `[hidden] { display: none; }` but bootstrap.min.css set `[hidden] { display: none !important; }` so we also need the `!important` here to be able to override the default hidden behavior on the sphinx rendered scikit-learn.org. See: https://github.com/scikit-learn/scikit-learn/issues/21755 */display: inline-block !important;position: relative;}#sk-container-id-2 div.sk-text-repr-fallback {display: none;}</style><div id=\"sk-container-id-2\" class=\"sk-top-container\"><div class=\"sk-text-repr-fallback\"><pre>KNeighborsClassifier(n_neighbors=10)</pre><b>In a Jupyter environment, please rerun this cell to show the HTML representation or trust the notebook. <br />On GitHub, the HTML representation is unable to render, please try loading this page with nbviewer.org.</b></div><div class=\"sk-container\" hidden><div class=\"sk-item\"><div class=\"sk-estimator sk-toggleable\"><input class=\"sk-toggleable__control sk-hidden--visually\" id=\"sk-estimator-id-2\" type=\"checkbox\" checked><label for=\"sk-estimator-id-2\" class=\"sk-toggleable__label sk-toggleable__label-arrow\">KNeighborsClassifier</label><div class=\"sk-toggleable__content\"><pre>KNeighborsClassifier(n_neighbors=10)</pre></div></div></div></div></div>"
      ],
      "text/plain": [
       "KNeighborsClassifier(n_neighbors=10)"
      ]
     },
     "execution_count": 22,
     "metadata": {},
     "output_type": "execute_result"
    }
   ],
   "source": [
    "knn=KNeighborsClassifier(n_neighbors=10)\n",
    "knn.fit(x_train,y_train)"
   ]
  },
  {
   "cell_type": "code",
   "execution_count": 23,
   "id": "92680f1d",
   "metadata": {},
   "outputs": [
    {
     "data": {
      "text/plain": [
       "array([1, 0, 0, 0, 2, 1, 0, 3, 1, 1, 1, 3, 2, 1, 1, 1, 1, 1, 3, 2, 3, 3,\n",
       "       2, 0, 2, 0, 1, 2, 1, 1, 2, 0, 3, 2, 2, 0, 0, 2, 1, 2, 0, 1, 0, 3,\n",
       "       2, 3, 1, 1, 1, 3, 1, 0, 1, 1, 2, 2, 0, 0, 2, 1, 1, 0, 3, 3, 3, 3,\n",
       "       3, 2, 1, 0, 1, 0, 1, 1, 0, 1, 0, 1, 0, 1, 1, 0, 0, 1, 3, 0, 3, 1,\n",
       "       1, 0, 0, 2, 2, 2, 3, 1, 2, 2, 0, 2, 2, 3, 2, 2, 3, 1, 0, 0, 0, 2,\n",
       "       1, 2, 3, 2, 2, 1, 0, 2, 2, 1, 2, 1, 0, 0, 0, 3, 2, 0, 2, 2, 2, 0,\n",
       "       1, 1, 0, 2, 0, 3, 3, 2, 0, 2, 1, 1, 3, 2, 2, 0, 1, 3, 0, 0, 0, 2,\n",
       "       3, 1, 1, 1, 3, 0, 0, 3, 3, 2, 2, 2, 0, 3, 0, 2, 0, 0, 0, 2, 3, 0,\n",
       "       1, 1, 0, 1, 1, 2, 3, 2, 1, 0, 2, 1, 0, 1, 1, 1, 3, 2, 0, 1, 3, 2,\n",
       "       2, 0, 3, 1, 1, 3, 2, 0, 3, 0, 1, 1, 1, 3, 3, 2, 1, 3, 1, 3, 1, 3,\n",
       "       2, 1, 3, 2, 1, 2, 3, 1, 2, 1, 0, 1, 1, 3, 3, 1, 2, 0, 1, 1, 0, 3,\n",
       "       0, 1, 2, 1, 1, 3, 0, 3, 3, 2, 2, 1, 0, 3, 1, 2, 2, 0, 1, 0, 1, 0,\n",
       "       1, 1, 3, 2, 3, 1, 0, 2, 0, 1, 3, 3, 0, 0, 2, 0, 1, 0, 1, 2, 2, 0,\n",
       "       0, 1, 0, 0, 1, 0, 2, 3, 3, 1, 0, 3, 1, 2, 0, 1, 1, 2, 0, 3, 3, 1,\n",
       "       0, 1, 3, 0, 1, 0, 0, 1, 0, 2, 3, 0, 2, 3, 3, 2, 1, 0, 2, 2, 2, 2,\n",
       "       1, 3, 0, 1, 0, 1, 0, 0, 2, 0, 0, 1, 3, 2, 0, 0, 0, 0, 3, 0, 3, 0,\n",
       "       3, 1, 1, 3, 0, 2, 2, 3, 0, 3, 1, 3, 2, 1, 3, 1, 3, 3, 3, 0, 1, 1,\n",
       "       1, 0, 1, 2, 2, 0, 2, 2, 0, 3, 2, 1, 2, 0, 2, 2, 2, 3, 2, 3, 2, 2,\n",
       "       0, 0, 2, 0, 1, 0, 2, 2, 2, 3, 2, 3, 0, 1, 2, 3, 1, 2, 0, 2, 1, 1,\n",
       "       3, 0, 1, 0, 2, 2, 3, 1, 3, 1, 1, 0, 0, 0, 0, 1, 0, 1, 2, 1, 0, 2,\n",
       "       3, 2, 3, 2, 2, 2, 3, 3, 0, 2, 0, 0, 3, 2, 0, 3, 0, 3, 1, 3, 0, 2,\n",
       "       2, 0, 0, 1, 2, 2, 2, 2, 3, 1, 3, 0, 0, 1, 2, 1, 0, 2, 0, 2, 1, 2,\n",
       "       1, 2, 3, 0, 2, 3, 3, 2, 2, 1, 2, 0, 1, 1, 2, 3], dtype=int64)"
      ]
     },
     "execution_count": 23,
     "metadata": {},
     "output_type": "execute_result"
    }
   ],
   "source": [
    "y_pred=knn.predict(x_test)\n",
    "y_pred"
   ]
  },
  {
   "cell_type": "code",
   "execution_count": 24,
   "id": "ec608b24",
   "metadata": {},
   "outputs": [
    {
     "name": "stdout",
     "output_type": "stream",
     "text": [
      "10 nin score: 77.8\n",
      "Train_score: 76.47\n"
     ]
    }
   ],
   "source": [
    "print(\"{} nin score: {}\".format(10,knn.score(x_test,y_test)*100))\n",
    "print(\"Train_score:\",round(knn.score(x_train,y_train)*100,2))"
   ]
  },
  {
   "cell_type": "markdown",
   "id": "0d472548",
   "metadata": {},
   "source": [
    "# SVM"
   ]
  },
  {
   "cell_type": "code",
   "execution_count": 25,
   "id": "d07a7d39",
   "metadata": {},
   "outputs": [],
   "source": [
    "from sklearn.svm import SVC"
   ]
  },
  {
   "cell_type": "code",
   "execution_count": 26,
   "id": "ca645e8c",
   "metadata": {},
   "outputs": [
    {
     "data": {
      "text/html": [
       "<style>#sk-container-id-3 {color: black;background-color: white;}#sk-container-id-3 pre{padding: 0;}#sk-container-id-3 div.sk-toggleable {background-color: white;}#sk-container-id-3 label.sk-toggleable__label {cursor: pointer;display: block;width: 100%;margin-bottom: 0;padding: 0.3em;box-sizing: border-box;text-align: center;}#sk-container-id-3 label.sk-toggleable__label-arrow:before {content: \"▸\";float: left;margin-right: 0.25em;color: #696969;}#sk-container-id-3 label.sk-toggleable__label-arrow:hover:before {color: black;}#sk-container-id-3 div.sk-estimator:hover label.sk-toggleable__label-arrow:before {color: black;}#sk-container-id-3 div.sk-toggleable__content {max-height: 0;max-width: 0;overflow: hidden;text-align: left;background-color: #f0f8ff;}#sk-container-id-3 div.sk-toggleable__content pre {margin: 0.2em;color: black;border-radius: 0.25em;background-color: #f0f8ff;}#sk-container-id-3 input.sk-toggleable__control:checked~div.sk-toggleable__content {max-height: 200px;max-width: 100%;overflow: auto;}#sk-container-id-3 input.sk-toggleable__control:checked~label.sk-toggleable__label-arrow:before {content: \"▾\";}#sk-container-id-3 div.sk-estimator input.sk-toggleable__control:checked~label.sk-toggleable__label {background-color: #d4ebff;}#sk-container-id-3 div.sk-label input.sk-toggleable__control:checked~label.sk-toggleable__label {background-color: #d4ebff;}#sk-container-id-3 input.sk-hidden--visually {border: 0;clip: rect(1px 1px 1px 1px);clip: rect(1px, 1px, 1px, 1px);height: 1px;margin: -1px;overflow: hidden;padding: 0;position: absolute;width: 1px;}#sk-container-id-3 div.sk-estimator {font-family: monospace;background-color: #f0f8ff;border: 1px dotted black;border-radius: 0.25em;box-sizing: border-box;margin-bottom: 0.5em;}#sk-container-id-3 div.sk-estimator:hover {background-color: #d4ebff;}#sk-container-id-3 div.sk-parallel-item::after {content: \"\";width: 100%;border-bottom: 1px solid gray;flex-grow: 1;}#sk-container-id-3 div.sk-label:hover label.sk-toggleable__label {background-color: #d4ebff;}#sk-container-id-3 div.sk-serial::before {content: \"\";position: absolute;border-left: 1px solid gray;box-sizing: border-box;top: 0;bottom: 0;left: 50%;z-index: 0;}#sk-container-id-3 div.sk-serial {display: flex;flex-direction: column;align-items: center;background-color: white;padding-right: 0.2em;padding-left: 0.2em;position: relative;}#sk-container-id-3 div.sk-item {position: relative;z-index: 1;}#sk-container-id-3 div.sk-parallel {display: flex;align-items: stretch;justify-content: center;background-color: white;position: relative;}#sk-container-id-3 div.sk-item::before, #sk-container-id-3 div.sk-parallel-item::before {content: \"\";position: absolute;border-left: 1px solid gray;box-sizing: border-box;top: 0;bottom: 0;left: 50%;z-index: -1;}#sk-container-id-3 div.sk-parallel-item {display: flex;flex-direction: column;z-index: 1;position: relative;background-color: white;}#sk-container-id-3 div.sk-parallel-item:first-child::after {align-self: flex-end;width: 50%;}#sk-container-id-3 div.sk-parallel-item:last-child::after {align-self: flex-start;width: 50%;}#sk-container-id-3 div.sk-parallel-item:only-child::after {width: 0;}#sk-container-id-3 div.sk-dashed-wrapped {border: 1px dashed gray;margin: 0 0.4em 0.5em 0.4em;box-sizing: border-box;padding-bottom: 0.4em;background-color: white;}#sk-container-id-3 div.sk-label label {font-family: monospace;font-weight: bold;display: inline-block;line-height: 1.2em;}#sk-container-id-3 div.sk-label-container {text-align: center;}#sk-container-id-3 div.sk-container {/* jupyter's `normalize.less` sets `[hidden] { display: none; }` but bootstrap.min.css set `[hidden] { display: none !important; }` so we also need the `!important` here to be able to override the default hidden behavior on the sphinx rendered scikit-learn.org. See: https://github.com/scikit-learn/scikit-learn/issues/21755 */display: inline-block !important;position: relative;}#sk-container-id-3 div.sk-text-repr-fallback {display: none;}</style><div id=\"sk-container-id-3\" class=\"sk-top-container\"><div class=\"sk-text-repr-fallback\"><pre>SVC(random_state=1)</pre><b>In a Jupyter environment, please rerun this cell to show the HTML representation or trust the notebook. <br />On GitHub, the HTML representation is unable to render, please try loading this page with nbviewer.org.</b></div><div class=\"sk-container\" hidden><div class=\"sk-item\"><div class=\"sk-estimator sk-toggleable\"><input class=\"sk-toggleable__control sk-hidden--visually\" id=\"sk-estimator-id-3\" type=\"checkbox\" checked><label for=\"sk-estimator-id-3\" class=\"sk-toggleable__label sk-toggleable__label-arrow\">SVC</label><div class=\"sk-toggleable__content\"><pre>SVC(random_state=1)</pre></div></div></div></div></div>"
      ],
      "text/plain": [
       "SVC(random_state=1)"
      ]
     },
     "execution_count": 26,
     "metadata": {},
     "output_type": "execute_result"
    }
   ],
   "source": [
    "svm=SVC(random_state=1)\n",
    "svm.fit(x_train,y_train)"
   ]
  },
  {
   "cell_type": "code",
   "execution_count": 27,
   "id": "8b0d1d44",
   "metadata": {},
   "outputs": [
    {
     "data": {
      "text/plain": [
       "array([1, 1, 0, 0, 2, 1, 0, 3, 1, 1, 1, 3, 2, 1, 1, 1, 1, 1, 3, 3, 3, 3,\n",
       "       2, 0, 2, 0, 1, 2, 1, 1, 2, 0, 3, 2, 2, 0, 0, 2, 2, 2, 0, 1, 0, 3,\n",
       "       2, 3, 1, 1, 1, 3, 1, 1, 1, 1, 2, 2, 0, 0, 2, 1, 2, 0, 3, 3, 3, 3,\n",
       "       3, 2, 1, 1, 2, 0, 1, 2, 0, 1, 0, 1, 0, 1, 1, 0, 0, 1, 3, 0, 3, 1,\n",
       "       1, 0, 0, 2, 3, 2, 3, 2, 2, 2, 1, 2, 2, 3, 2, 2, 3, 1, 0, 0, 0, 2,\n",
       "       1, 2, 3, 2, 2, 1, 0, 2, 2, 1, 2, 1, 0, 0, 0, 3, 2, 0, 2, 2, 2, 0,\n",
       "       1, 1, 0, 2, 0, 3, 3, 3, 1, 2, 1, 1, 3, 2, 2, 0, 1, 3, 0, 0, 0, 2,\n",
       "       3, 1, 1, 1, 3, 0, 0, 3, 3, 2, 2, 2, 0, 3, 0, 2, 0, 0, 0, 2, 3, 0,\n",
       "       1, 1, 0, 1, 1, 2, 3, 2, 1, 1, 3, 1, 0, 1, 1, 1, 3, 2, 0, 1, 3, 3,\n",
       "       2, 0, 3, 1, 0, 3, 2, 0, 2, 0, 2, 1, 1, 3, 3, 2, 1, 3, 1, 3, 1, 3,\n",
       "       2, 1, 2, 2, 1, 2, 3, 1, 2, 1, 0, 1, 1, 3, 3, 1, 2, 0, 1, 1, 0, 3,\n",
       "       0, 1, 2, 1, 0, 3, 0, 3, 3, 2, 2, 1, 1, 3, 1, 2, 2, 0, 1, 0, 1, 0,\n",
       "       1, 2, 3, 2, 3, 1, 0, 2, 0, 1, 3, 3, 0, 0, 2, 0, 1, 1, 1, 2, 2, 0,\n",
       "       0, 1, 0, 0, 1, 1, 2, 3, 3, 1, 0, 3, 1, 3, 0, 1, 1, 2, 0, 3, 3, 1,\n",
       "       0, 1, 3, 0, 1, 0, 0, 1, 0, 2, 3, 0, 2, 3, 3, 3, 1, 0, 3, 2, 2, 2,\n",
       "       1, 3, 0, 2, 1, 1, 0, 0, 2, 0, 0, 1, 3, 2, 0, 0, 0, 0, 2, 0, 3, 0,\n",
       "       3, 1, 1, 3, 0, 2, 2, 3, 0, 3, 1, 3, 2, 1, 3, 1, 3, 3, 3, 1, 1, 1,\n",
       "       1, 0, 1, 2, 2, 0, 2, 2, 0, 3, 2, 1, 2, 0, 2, 2, 2, 3, 3, 3, 2, 3,\n",
       "       0, 0, 2, 0, 1, 0, 2, 2, 3, 3, 2, 3, 0, 1, 2, 3, 1, 2, 0, 2, 1, 1,\n",
       "       3, 0, 1, 0, 2, 2, 3, 1, 3, 1, 1, 1, 0, 0, 0, 1, 0, 1, 3, 1, 0, 2,\n",
       "       3, 2, 3, 2, 2, 2, 3, 3, 0, 2, 0, 1, 3, 2, 0, 3, 0, 3, 1, 3, 0, 2,\n",
       "       2, 0, 0, 1, 2, 2, 2, 2, 3, 2, 3, 0, 0, 1, 3, 1, 0, 2, 0, 2, 2, 2,\n",
       "       1, 2, 3, 0, 2, 3, 3, 2, 2, 2, 2, 0, 1, 1, 2, 3], dtype=int64)"
      ]
     },
     "execution_count": 27,
     "metadata": {},
     "output_type": "execute_result"
    }
   ],
   "source": [
    "y_pred=svm.predict(x_test)\n",
    "y_pred"
   ]
  },
  {
   "cell_type": "code",
   "execution_count": 28,
   "id": "1c4c6da5",
   "metadata": {},
   "outputs": [
    {
     "name": "stdout",
     "output_type": "stream",
     "text": [
      "Training score 75.47\n",
      "Testing score 76.4\n"
     ]
    }
   ],
   "source": [
    "print(\"Training score\",round(svm.score(x_train,y_train)*100,2))\n",
    "print(\"Testing score\",round(svm.score(x_test,y_test)*100,2))"
   ]
  },
  {
   "cell_type": "markdown",
   "id": "fa2f9e44",
   "metadata": {},
   "source": [
    "# Decision Tree"
   ]
  },
  {
   "cell_type": "code",
   "execution_count": 29,
   "id": "5a0d631a",
   "metadata": {},
   "outputs": [
    {
     "data": {
      "text/html": [
       "<style>#sk-container-id-4 {color: black;background-color: white;}#sk-container-id-4 pre{padding: 0;}#sk-container-id-4 div.sk-toggleable {background-color: white;}#sk-container-id-4 label.sk-toggleable__label {cursor: pointer;display: block;width: 100%;margin-bottom: 0;padding: 0.3em;box-sizing: border-box;text-align: center;}#sk-container-id-4 label.sk-toggleable__label-arrow:before {content: \"▸\";float: left;margin-right: 0.25em;color: #696969;}#sk-container-id-4 label.sk-toggleable__label-arrow:hover:before {color: black;}#sk-container-id-4 div.sk-estimator:hover label.sk-toggleable__label-arrow:before {color: black;}#sk-container-id-4 div.sk-toggleable__content {max-height: 0;max-width: 0;overflow: hidden;text-align: left;background-color: #f0f8ff;}#sk-container-id-4 div.sk-toggleable__content pre {margin: 0.2em;color: black;border-radius: 0.25em;background-color: #f0f8ff;}#sk-container-id-4 input.sk-toggleable__control:checked~div.sk-toggleable__content {max-height: 200px;max-width: 100%;overflow: auto;}#sk-container-id-4 input.sk-toggleable__control:checked~label.sk-toggleable__label-arrow:before {content: \"▾\";}#sk-container-id-4 div.sk-estimator input.sk-toggleable__control:checked~label.sk-toggleable__label {background-color: #d4ebff;}#sk-container-id-4 div.sk-label input.sk-toggleable__control:checked~label.sk-toggleable__label {background-color: #d4ebff;}#sk-container-id-4 input.sk-hidden--visually {border: 0;clip: rect(1px 1px 1px 1px);clip: rect(1px, 1px, 1px, 1px);height: 1px;margin: -1px;overflow: hidden;padding: 0;position: absolute;width: 1px;}#sk-container-id-4 div.sk-estimator {font-family: monospace;background-color: #f0f8ff;border: 1px dotted black;border-radius: 0.25em;box-sizing: border-box;margin-bottom: 0.5em;}#sk-container-id-4 div.sk-estimator:hover {background-color: #d4ebff;}#sk-container-id-4 div.sk-parallel-item::after {content: \"\";width: 100%;border-bottom: 1px solid gray;flex-grow: 1;}#sk-container-id-4 div.sk-label:hover label.sk-toggleable__label {background-color: #d4ebff;}#sk-container-id-4 div.sk-serial::before {content: \"\";position: absolute;border-left: 1px solid gray;box-sizing: border-box;top: 0;bottom: 0;left: 50%;z-index: 0;}#sk-container-id-4 div.sk-serial {display: flex;flex-direction: column;align-items: center;background-color: white;padding-right: 0.2em;padding-left: 0.2em;position: relative;}#sk-container-id-4 div.sk-item {position: relative;z-index: 1;}#sk-container-id-4 div.sk-parallel {display: flex;align-items: stretch;justify-content: center;background-color: white;position: relative;}#sk-container-id-4 div.sk-item::before, #sk-container-id-4 div.sk-parallel-item::before {content: \"\";position: absolute;border-left: 1px solid gray;box-sizing: border-box;top: 0;bottom: 0;left: 50%;z-index: -1;}#sk-container-id-4 div.sk-parallel-item {display: flex;flex-direction: column;z-index: 1;position: relative;background-color: white;}#sk-container-id-4 div.sk-parallel-item:first-child::after {align-self: flex-end;width: 50%;}#sk-container-id-4 div.sk-parallel-item:last-child::after {align-self: flex-start;width: 50%;}#sk-container-id-4 div.sk-parallel-item:only-child::after {width: 0;}#sk-container-id-4 div.sk-dashed-wrapped {border: 1px dashed gray;margin: 0 0.4em 0.5em 0.4em;box-sizing: border-box;padding-bottom: 0.4em;background-color: white;}#sk-container-id-4 div.sk-label label {font-family: monospace;font-weight: bold;display: inline-block;line-height: 1.2em;}#sk-container-id-4 div.sk-label-container {text-align: center;}#sk-container-id-4 div.sk-container {/* jupyter's `normalize.less` sets `[hidden] { display: none; }` but bootstrap.min.css set `[hidden] { display: none !important; }` so we also need the `!important` here to be able to override the default hidden behavior on the sphinx rendered scikit-learn.org. See: https://github.com/scikit-learn/scikit-learn/issues/21755 */display: inline-block !important;position: relative;}#sk-container-id-4 div.sk-text-repr-fallback {display: none;}</style><div id=\"sk-container-id-4\" class=\"sk-top-container\"><div class=\"sk-text-repr-fallback\"><pre>DecisionTreeClassifier()</pre><b>In a Jupyter environment, please rerun this cell to show the HTML representation or trust the notebook. <br />On GitHub, the HTML representation is unable to render, please try loading this page with nbviewer.org.</b></div><div class=\"sk-container\" hidden><div class=\"sk-item\"><div class=\"sk-estimator sk-toggleable\"><input class=\"sk-toggleable__control sk-hidden--visually\" id=\"sk-estimator-id-4\" type=\"checkbox\" checked><label for=\"sk-estimator-id-4\" class=\"sk-toggleable__label sk-toggleable__label-arrow\">DecisionTreeClassifier</label><div class=\"sk-toggleable__content\"><pre>DecisionTreeClassifier()</pre></div></div></div></div></div>"
      ],
      "text/plain": [
       "DecisionTreeClassifier()"
      ]
     },
     "execution_count": 29,
     "metadata": {},
     "output_type": "execute_result"
    }
   ],
   "source": [
    "from sklearn.tree import DecisionTreeClassifier\n",
    "dt=DecisionTreeClassifier()\n",
    "dt.fit(x_train,y_train)"
   ]
  },
  {
   "cell_type": "code",
   "execution_count": 30,
   "id": "2d91db1b",
   "metadata": {},
   "outputs": [
    {
     "data": {
      "text/plain": [
       "array([0, 0, 1, 0, 2, 1, 0, 3, 1, 0, 2, 2, 2, 1, 1, 2, 1, 1, 3, 3, 2, 3,\n",
       "       2, 0, 3, 0, 1, 2, 1, 0, 2, 0, 3, 2, 2, 0, 0, 1, 1, 2, 0, 1, 0, 3,\n",
       "       2, 2, 1, 1, 2, 3, 1, 0, 2, 1, 2, 2, 0, 0, 2, 1, 2, 0, 3, 3, 3, 2,\n",
       "       2, 1, 1, 0, 2, 0, 1, 1, 0, 2, 0, 2, 0, 1, 1, 1, 0, 1, 3, 0, 3, 1,\n",
       "       1, 0, 0, 2, 3, 2, 3, 1, 2, 2, 1, 2, 2, 2, 3, 2, 3, 2, 0, 0, 0, 2,\n",
       "       1, 1, 3, 2, 3, 2, 0, 2, 2, 2, 3, 2, 0, 0, 0, 3, 1, 0, 2, 2, 2, 0,\n",
       "       1, 1, 0, 2, 0, 3, 3, 3, 0, 2, 2, 1, 3, 2, 2, 0, 1, 2, 0, 0, 0, 2,\n",
       "       3, 1, 2, 2, 3, 0, 0, 3, 3, 2, 3, 1, 0, 3, 0, 2, 0, 0, 0, 2, 2, 1,\n",
       "       0, 1, 0, 1, 1, 2, 3, 2, 0, 1, 3, 1, 0, 1, 2, 0, 2, 2, 0, 1, 2, 3,\n",
       "       1, 0, 3, 1, 1, 3, 2, 0, 3, 0, 1, 2, 2, 3, 3, 2, 0, 2, 1, 3, 1, 3,\n",
       "       2, 1, 2, 2, 1, 2, 2, 1, 1, 1, 0, 0, 1, 2, 3, 1, 3, 0, 0, 2, 0, 2,\n",
       "       0, 0, 1, 1, 1, 3, 0, 3, 3, 2, 2, 0, 0, 3, 2, 3, 1, 0, 2, 0, 1, 0,\n",
       "       1, 1, 3, 2, 3, 1, 0, 3, 0, 1, 3, 3, 0, 0, 2, 0, 1, 0, 1, 1, 2, 0,\n",
       "       0, 1, 0, 0, 2, 0, 2, 3, 3, 0, 0, 3, 1, 3, 0, 1, 1, 2, 0, 3, 3, 1,\n",
       "       0, 2, 3, 1, 1, 0, 0, 0, 0, 3, 3, 0, 1, 3, 3, 3, 1, 0, 3, 2, 2, 3,\n",
       "       2, 2, 0, 1, 0, 1, 0, 0, 2, 0, 0, 1, 3, 2, 0, 0, 1, 0, 3, 1, 3, 0,\n",
       "       3, 1, 1, 3, 0, 3, 2, 2, 0, 3, 0, 3, 2, 1, 3, 2, 3, 3, 3, 1, 1, 1,\n",
       "       1, 0, 1, 2, 2, 0, 2, 3, 0, 3, 1, 1, 2, 0, 2, 3, 2, 3, 3, 3, 2, 2,\n",
       "       0, 0, 2, 1, 2, 0, 2, 2, 3, 3, 3, 2, 0, 1, 2, 3, 1, 2, 1, 2, 0, 2,\n",
       "       3, 0, 1, 0, 3, 1, 3, 1, 3, 1, 1, 1, 1, 0, 0, 2, 0, 1, 2, 1, 0, 2,\n",
       "       3, 2, 3, 2, 2, 3, 3, 3, 0, 2, 0, 1, 3, 2, 0, 3, 1, 2, 1, 3, 0, 3,\n",
       "       2, 1, 0, 1, 2, 3, 2, 2, 3, 3, 3, 0, 0, 1, 3, 1, 0, 3, 0, 2, 1, 2,\n",
       "       1, 2, 3, 0, 2, 3, 3, 3, 2, 2, 2, 0, 0, 1, 1, 3], dtype=int64)"
      ]
     },
     "execution_count": 30,
     "metadata": {},
     "output_type": "execute_result"
    }
   ],
   "source": [
    "y_pred=dt.predict(x_test)\n",
    "y_pred"
   ]
  },
  {
   "cell_type": "code",
   "execution_count": 31,
   "id": "502571f9",
   "metadata": {},
   "outputs": [
    {
     "name": "stdout",
     "output_type": "stream",
     "text": [
      "Decision Tree Classifier Accuracy: 67.0\n"
     ]
    }
   ],
   "source": [
    "print(\"Decision Tree Classifier Accuracy:\",dt.score(x_test,y_test)*100)"
   ]
  },
  {
   "cell_type": "code",
   "execution_count": 32,
   "id": "4dde30ed",
   "metadata": {},
   "outputs": [],
   "source": [
    "from sklearn.metrics import confusion_matrix,classification_report"
   ]
  },
  {
   "cell_type": "code",
   "execution_count": 33,
   "id": "93ce0856",
   "metadata": {},
   "outputs": [
    {
     "data": {
      "text/plain": [
       "array([[106,  25,   3,   0],\n",
       "       [ 18,  74,  26,   1],\n",
       "       [  0,  32,  71,  31],\n",
       "       [  0,   2,  27,  84]], dtype=int64)"
      ]
     },
     "execution_count": 33,
     "metadata": {},
     "output_type": "execute_result"
    }
   ],
   "source": [
    "cm=confusion_matrix(y_pred,y_test)\n",
    "cr=classification_report(y_pred,y_test)\n",
    "cm"
   ]
  },
  {
   "cell_type": "code",
   "execution_count": 34,
   "id": "935c419f",
   "metadata": {},
   "outputs": [
    {
     "data": {
      "text/plain": [
       "'              precision    recall  f1-score   support\\n\\n           0       0.85      0.79      0.82       134\\n           1       0.56      0.62      0.59       119\\n           2       0.56      0.53      0.54       134\\n           3       0.72      0.74      0.73       113\\n\\n    accuracy                           0.67       500\\n   macro avg       0.67      0.67      0.67       500\\nweighted avg       0.67      0.67      0.67       500\\n'"
      ]
     },
     "execution_count": 34,
     "metadata": {},
     "output_type": "execute_result"
    }
   ],
   "source": [
    "cr"
   ]
  },
  {
   "cell_type": "markdown",
   "id": "f5143c54",
   "metadata": {},
   "source": [
    "# Random  Forest"
   ]
  },
  {
   "cell_type": "code",
   "execution_count": 35,
   "id": "b353c8a1",
   "metadata": {},
   "outputs": [],
   "source": [
    "from sklearn.ensemble import RandomForestClassifier"
   ]
  },
  {
   "cell_type": "code",
   "execution_count": 36,
   "id": "4b104145",
   "metadata": {},
   "outputs": [
    {
     "data": {
      "text/html": [
       "<style>#sk-container-id-5 {color: black;background-color: white;}#sk-container-id-5 pre{padding: 0;}#sk-container-id-5 div.sk-toggleable {background-color: white;}#sk-container-id-5 label.sk-toggleable__label {cursor: pointer;display: block;width: 100%;margin-bottom: 0;padding: 0.3em;box-sizing: border-box;text-align: center;}#sk-container-id-5 label.sk-toggleable__label-arrow:before {content: \"▸\";float: left;margin-right: 0.25em;color: #696969;}#sk-container-id-5 label.sk-toggleable__label-arrow:hover:before {color: black;}#sk-container-id-5 div.sk-estimator:hover label.sk-toggleable__label-arrow:before {color: black;}#sk-container-id-5 div.sk-toggleable__content {max-height: 0;max-width: 0;overflow: hidden;text-align: left;background-color: #f0f8ff;}#sk-container-id-5 div.sk-toggleable__content pre {margin: 0.2em;color: black;border-radius: 0.25em;background-color: #f0f8ff;}#sk-container-id-5 input.sk-toggleable__control:checked~div.sk-toggleable__content {max-height: 200px;max-width: 100%;overflow: auto;}#sk-container-id-5 input.sk-toggleable__control:checked~label.sk-toggleable__label-arrow:before {content: \"▾\";}#sk-container-id-5 div.sk-estimator input.sk-toggleable__control:checked~label.sk-toggleable__label {background-color: #d4ebff;}#sk-container-id-5 div.sk-label input.sk-toggleable__control:checked~label.sk-toggleable__label {background-color: #d4ebff;}#sk-container-id-5 input.sk-hidden--visually {border: 0;clip: rect(1px 1px 1px 1px);clip: rect(1px, 1px, 1px, 1px);height: 1px;margin: -1px;overflow: hidden;padding: 0;position: absolute;width: 1px;}#sk-container-id-5 div.sk-estimator {font-family: monospace;background-color: #f0f8ff;border: 1px dotted black;border-radius: 0.25em;box-sizing: border-box;margin-bottom: 0.5em;}#sk-container-id-5 div.sk-estimator:hover {background-color: #d4ebff;}#sk-container-id-5 div.sk-parallel-item::after {content: \"\";width: 100%;border-bottom: 1px solid gray;flex-grow: 1;}#sk-container-id-5 div.sk-label:hover label.sk-toggleable__label {background-color: #d4ebff;}#sk-container-id-5 div.sk-serial::before {content: \"\";position: absolute;border-left: 1px solid gray;box-sizing: border-box;top: 0;bottom: 0;left: 50%;z-index: 0;}#sk-container-id-5 div.sk-serial {display: flex;flex-direction: column;align-items: center;background-color: white;padding-right: 0.2em;padding-left: 0.2em;position: relative;}#sk-container-id-5 div.sk-item {position: relative;z-index: 1;}#sk-container-id-5 div.sk-parallel {display: flex;align-items: stretch;justify-content: center;background-color: white;position: relative;}#sk-container-id-5 div.sk-item::before, #sk-container-id-5 div.sk-parallel-item::before {content: \"\";position: absolute;border-left: 1px solid gray;box-sizing: border-box;top: 0;bottom: 0;left: 50%;z-index: -1;}#sk-container-id-5 div.sk-parallel-item {display: flex;flex-direction: column;z-index: 1;position: relative;background-color: white;}#sk-container-id-5 div.sk-parallel-item:first-child::after {align-self: flex-end;width: 50%;}#sk-container-id-5 div.sk-parallel-item:last-child::after {align-self: flex-start;width: 50%;}#sk-container-id-5 div.sk-parallel-item:only-child::after {width: 0;}#sk-container-id-5 div.sk-dashed-wrapped {border: 1px dashed gray;margin: 0 0.4em 0.5em 0.4em;box-sizing: border-box;padding-bottom: 0.4em;background-color: white;}#sk-container-id-5 div.sk-label label {font-family: monospace;font-weight: bold;display: inline-block;line-height: 1.2em;}#sk-container-id-5 div.sk-label-container {text-align: center;}#sk-container-id-5 div.sk-container {/* jupyter's `normalize.less` sets `[hidden] { display: none; }` but bootstrap.min.css set `[hidden] { display: none !important; }` so we also need the `!important` here to be able to override the default hidden behavior on the sphinx rendered scikit-learn.org. See: https://github.com/scikit-learn/scikit-learn/issues/21755 */display: inline-block !important;position: relative;}#sk-container-id-5 div.sk-text-repr-fallback {display: none;}</style><div id=\"sk-container-id-5\" class=\"sk-top-container\"><div class=\"sk-text-repr-fallback\"><pre>RandomForestClassifier(random_state=1)</pre><b>In a Jupyter environment, please rerun this cell to show the HTML representation or trust the notebook. <br />On GitHub, the HTML representation is unable to render, please try loading this page with nbviewer.org.</b></div><div class=\"sk-container\" hidden><div class=\"sk-item\"><div class=\"sk-estimator sk-toggleable\"><input class=\"sk-toggleable__control sk-hidden--visually\" id=\"sk-estimator-id-5\" type=\"checkbox\" checked><label for=\"sk-estimator-id-5\" class=\"sk-toggleable__label sk-toggleable__label-arrow\">RandomForestClassifier</label><div class=\"sk-toggleable__content\"><pre>RandomForestClassifier(random_state=1)</pre></div></div></div></div></div>"
      ],
      "text/plain": [
       "RandomForestClassifier(random_state=1)"
      ]
     },
     "execution_count": 36,
     "metadata": {},
     "output_type": "execute_result"
    }
   ],
   "source": [
    "rf=RandomForestClassifier(n_estimators=100, random_state=1)\n",
    "rf.fit(x_train,y_train)"
   ]
  },
  {
   "cell_type": "code",
   "execution_count": 37,
   "id": "ae59147c",
   "metadata": {},
   "outputs": [
    {
     "data": {
      "text/plain": [
       "array([1, 0, 0, 0, 2, 1, 0, 3, 1, 1, 2, 3, 2, 1, 1, 2, 0, 1, 3, 3, 3, 3,\n",
       "       2, 0, 3, 0, 1, 2, 1, 1, 2, 0, 3, 2, 3, 0, 0, 2, 1, 2, 0, 1, 0, 3,\n",
       "       2, 3, 1, 1, 1, 3, 0, 0, 1, 1, 2, 2, 0, 0, 1, 1, 2, 0, 3, 3, 3, 3,\n",
       "       2, 1, 0, 1, 2, 0, 1, 2, 0, 2, 0, 1, 0, 1, 1, 0, 0, 1, 3, 0, 3, 1,\n",
       "       1, 0, 0, 2, 3, 2, 3, 1, 2, 2, 1, 2, 2, 3, 3, 2, 3, 1, 0, 0, 0, 2,\n",
       "       1, 1, 3, 3, 2, 2, 0, 2, 2, 1, 2, 1, 0, 0, 0, 3, 1, 0, 2, 2, 2, 0,\n",
       "       1, 1, 0, 2, 0, 3, 3, 3, 1, 2, 2, 1, 3, 2, 1, 0, 1, 3, 0, 0, 0, 2,\n",
       "       3, 1, 1, 1, 3, 0, 0, 3, 3, 2, 3, 2, 0, 3, 0, 3, 0, 0, 0, 2, 3, 0,\n",
       "       1, 1, 0, 1, 1, 2, 3, 2, 1, 1, 2, 1, 0, 1, 2, 0, 3, 2, 0, 1, 2, 3,\n",
       "       1, 0, 3, 1, 1, 3, 2, 0, 3, 0, 1, 2, 2, 3, 3, 2, 1, 3, 1, 3, 1, 3,\n",
       "       2, 1, 2, 2, 1, 2, 2, 1, 2, 1, 0, 1, 1, 2, 3, 1, 2, 0, 1, 1, 0, 3,\n",
       "       0, 1, 2, 2, 0, 3, 0, 3, 3, 2, 2, 1, 0, 3, 1, 2, 1, 0, 1, 0, 1, 0,\n",
       "       1, 2, 3, 2, 3, 1, 0, 2, 0, 1, 3, 3, 0, 0, 2, 0, 1, 1, 1, 1, 2, 0,\n",
       "       0, 1, 0, 0, 1, 1, 2, 3, 3, 1, 0, 3, 1, 3, 0, 1, 0, 2, 0, 3, 3, 1,\n",
       "       0, 2, 3, 0, 1, 0, 0, 0, 0, 2, 3, 0, 1, 3, 3, 3, 1, 0, 3, 2, 2, 2,\n",
       "       1, 3, 0, 2, 0, 1, 0, 0, 2, 0, 0, 1, 3, 2, 0, 0, 0, 0, 2, 0, 3, 0,\n",
       "       3, 1, 1, 3, 0, 2, 2, 3, 0, 3, 1, 3, 2, 1, 3, 1, 3, 3, 3, 1, 1, 1,\n",
       "       2, 0, 1, 2, 2, 0, 2, 2, 0, 3, 2, 1, 2, 0, 2, 2, 2, 3, 3, 3, 2, 2,\n",
       "       0, 0, 2, 0, 1, 0, 2, 2, 3, 3, 2, 3, 0, 1, 2, 3, 1, 2, 0, 2, 1, 1,\n",
       "       3, 0, 1, 0, 2, 1, 2, 1, 3, 1, 1, 1, 0, 0, 0, 1, 0, 1, 2, 1, 0, 2,\n",
       "       3, 2, 3, 2, 3, 2, 3, 3, 0, 2, 0, 1, 3, 2, 0, 3, 0, 3, 1, 3, 0, 2,\n",
       "       1, 0, 0, 1, 2, 2, 2, 2, 3, 2, 3, 0, 0, 1, 3, 1, 0, 2, 0, 2, 1, 2,\n",
       "       1, 2, 3, 0, 2, 3, 3, 2, 2, 1, 2, 0, 1, 1, 1, 3], dtype=int64)"
      ]
     },
     "execution_count": 37,
     "metadata": {},
     "output_type": "execute_result"
    }
   ],
   "source": [
    "y_pred=rf.predict(x_test)\n",
    "y_pred"
   ]
  },
  {
   "cell_type": "code",
   "execution_count": 38,
   "id": "ceececc8",
   "metadata": {},
   "outputs": [
    {
     "name": "stdout",
     "output_type": "stream",
     "text": [
      "Accuracy of model: 73.6\n"
     ]
    }
   ],
   "source": [
    "print(\"Accuracy of model:\",round(rf.score(x_test,y_test)*100,2))"
   ]
  },
  {
   "cell_type": "code",
   "execution_count": 39,
   "id": "0d952070",
   "metadata": {},
   "outputs": [
    {
     "data": {
      "text/plain": [
       "array([[110,  21,   1,   0],\n",
       "       [ 14,  88,  30,   0],\n",
       "       [  0,  24,  78,  24],\n",
       "       [  0,   0,  18,  92]], dtype=int64)"
      ]
     },
     "execution_count": 39,
     "metadata": {},
     "output_type": "execute_result"
    }
   ],
   "source": [
    "from sklearn.metrics import confusion_matrix,classification_report\n",
    "confusion_matrix(y_pred,y_test)"
   ]
  },
  {
   "cell_type": "code",
   "execution_count": 40,
   "id": "95f60df8",
   "metadata": {},
   "outputs": [],
   "source": [
    "cr=classification_report(y_pred,y_test)"
   ]
  },
  {
   "cell_type": "code",
   "execution_count": 41,
   "id": "9c3c14ba",
   "metadata": {},
   "outputs": [
    {
     "data": {
      "text/plain": [
       "'              precision    recall  f1-score   support\\n\\n           0       0.89      0.83      0.86       132\\n           1       0.66      0.67      0.66       132\\n           2       0.61      0.62      0.62       126\\n           3       0.79      0.84      0.81       110\\n\\n    accuracy                           0.74       500\\n   macro avg       0.74      0.74      0.74       500\\nweighted avg       0.74      0.74      0.74       500\\n'"
      ]
     },
     "execution_count": 41,
     "metadata": {},
     "output_type": "execute_result"
    }
   ],
   "source": [
    "cr"
   ]
  },
  {
   "cell_type": "code",
   "execution_count": null,
   "id": "7e21f736",
   "metadata": {},
   "outputs": [],
   "source": []
  }
 ],
 "metadata": {
  "kernelspec": {
   "display_name": "Python 3 (ipykernel)",
   "language": "python",
   "name": "python3"
  },
  "language_info": {
   "codemirror_mode": {
    "name": "ipython",
    "version": 3
   },
   "file_extension": ".py",
   "mimetype": "text/x-python",
   "name": "python",
   "nbconvert_exporter": "python",
   "pygments_lexer": "ipython3",
   "version": "3.10.7"
  }
 },
 "nbformat": 4,
 "nbformat_minor": 5
}
